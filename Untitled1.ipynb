{
 "cells": [
  {
   "cell_type": "code",
   "execution_count": 3,
   "id": "c25e16ee-b51e-4580-ab79-ddc0bb0da965",
   "metadata": {},
   "outputs": [
    {
     "name": "stdout",
     "output_type": "stream",
     "text": [
      "h1_out: 0.5932699921071872\n",
      "h2_out: 0.596884378259767\n",
      "o1_out: 0.7513650695523157\n",
      "o1_out: 0.7513650695523157\n",
      "o2_out: 0.7729284653214625\n"
     ]
    }
   ],
   "source": [
    "import math\n",
    "\n",
    "def sigmoid(x):\n",
    "    return 1 / (1 + math.exp(-x))\n",
    "\n",
    "def sigmoid_derivative(x):\n",
    "    return x * (1 - x)\n",
    "\n",
    "def forward_propagation(i1, i2, w1, w2, w3, w4, w5, w6, w7, w8, b1, b2):\n",
    "    # Hidden layer\n",
    "    h1_input = i1 * w1 + i2 * w2 + b1\n",
    "    h1_out = sigmoid(h1_input)\n",
    "\n",
    "    h2_input = i1 * w3 + i2 * w4 + b1\n",
    "    h2_out = sigmoid(h2_input)\n",
    "\n",
    "    # Output layer\n",
    "    o1_input = h1_out * w5 + h2_out * w6 + b2\n",
    "    o1_out = sigmoid(o1_input)\n",
    "\n",
    "    o2_input = h1_out * w7 + h2_out * w8 + b2\n",
    "    o2_out = sigmoid(o2_input)\n",
    "\n",
    "    return h1_out, h2_out, o1_out, o2_out  \n",
    "i1 = 0.05\n",
    "i2 = 0.10\n",
    "t1 = 0.01\n",
    "t2 = 0.99\n",
    "w1 = 0.15\n",
    "w2 = 0.20\n",
    "w3 = 0.25\n",
    "w4 = 0.30\n",
    "w5 = 0.40\n",
    "w6 = 0.45\n",
    "w7 = 0.50\n",
    "w8 = 0.55\n",
    "b1 = 0.35\n",
    "b2 = 0.60\n",
    "\n",
    "h1_out, h2_out, o1_out, o2_out = forward_propagation(i1, i2, w1, w2, w3, w4, w5, w6, w7, w8, b1, b2)\n",
    "print(\"h1_out:\", h1_out)\n",
    "print(\"h2_out:\", h2_out)\n",
    "print(\"o1_out:\", o1_out)\n",
    "print(\"o1_out:\", o1_out)\n",
    "print(\"o2_out:\", o2_out)"
   ]
  },
  {
   "cell_type": "code",
   "execution_count": 6,
   "id": "21e08855-ddd6-4ebc-b64a-a6c9caa8c722",
   "metadata": {},
   "outputs": [
    {
     "name": "stdout",
     "output_type": "stream",
     "text": [
      "Updated w1: 0.1497807161327628\n",
      "Updated w2: 0.19956143226552567\n",
      "Updated w3: 0.24975114363236958\n",
      "Updated w4: 0.29950228726473915\n",
      "Updated w5: 0.35891647971788465\n",
      "Updated w6: 0.4086661860762334\n",
      "Updated w7: 0.5113012702387375\n",
      "Updated w8: 0.5613701211079891\n"
     ]
    }
   ],
   "source": [
    "import math\n",
    "\n",
    "def sigmoid(x):\n",
    "    return 1 / (1 + math.exp(-x))\n",
    "\n",
    "def sigmoid_derivative(x):\n",
    "    return x * (1 - x)\n",
    "def backward_propagation(i1, i2, t1, t2, w1, w2, w3, w4, w5, w6, w7, w8, b1, b2, h1_out, h2_out, o1_out, o2_out, learning_rate):\n",
    "    \n",
    "    o1_error = t1 - o1_out  \n",
    "    o2_error = t2 - o2_out  \n",
    "    o1_delta = o1_error * sigmoid_derivative(o1_out)\n",
    "    o2_delta = o2_error * sigmoid_derivative(o2_out)\n",
    "    h1_error = o1_delta * w5 + o2_delta * w7\n",
    "    h2_error = o1_delta * w6 + o2_delta * w8\n",
    "    h1_delta = h1_error * sigmoid_derivative(h1_out)\n",
    "    h2_delta = h2_error * sigmoid_derivative(h2_out)\n",
    "    w5 += learning_rate * h1_out * o1_delta\n",
    "    w6 += learning_rate * h2_out * o1_delta\n",
    "    w7 += learning_rate * h1_out * o2_delta\n",
    "    w8 += learning_rate * h2_out * o2_delta\n",
    "    b2 += learning_rate * (o1_delta + o2_delta)\n",
    "    w1 += learning_rate * i1 * h1_delta\n",
    "    w2 += learning_rate * i2 * h1_delta\n",
    "    w3 += learning_rate * i1 * h2_delta\n",
    "    w4 += learning_rate * i2 * h2_delta\n",
    "    return w1, w2, w3, w4, w5, w6, w7, w8, b1, b2\n",
    "i1 = 0.05\n",
    "i2 = 0.10\n",
    "t1 = 0.01\n",
    "t2 = 0.99\n",
    "w1 = 0.15\n",
    "w2 = 0.20\n",
    "w3 = 0.25\n",
    "w4 = 0.30\n",
    "w5 = 0.40\n",
    "w6 = 0.45\n",
    "w7 = 0.50\n",
    "w8 = 0.55\n",
    "b1 = 0.35\n",
    "b2 = 0.60\n",
    "learning_rate = 0.5\n",
    "w1, w2, w3, w4, w5, w6, w7, w8, b1, b2 = backward_propagation(i1, i2, t1, t2, w1, w2, w3, w4, w5, w6, w7, w8, b1, b2, h1_out, h2_out, o1_out, o2_out, learning_rate)\n",
    "print(\"Updated w1:\", w1)\n",
    "print(\"Updated w2:\", w2)\n",
    "print(\"Updated w3:\", w3)\n",
    "print(\"Updated w4:\", w4)\n",
    "print(\"Updated w5:\", w5)\n",
    "print(\"Updated w6:\", w6)\n",
    "print(\"Updated w7:\", w7)\n",
    "print(\"Updated w8:\", w8)"
   ]
  },
  {
   "cell_type": "code",
   "execution_count": null,
   "id": "5de4bc9c-7106-4f35-a3b9-4d0a6c6046e0",
   "metadata": {},
   "outputs": [],
   "source": []
  }
 ],
 "metadata": {
  "kernelspec": {
   "display_name": "Python 3 (ipykernel)",
   "language": "python",
   "name": "python3"
  },
  "language_info": {
   "codemirror_mode": {
    "name": "ipython",
    "version": 3
   },
   "file_extension": ".py",
   "mimetype": "text/x-python",
   "name": "python",
   "nbconvert_exporter": "python",
   "pygments_lexer": "ipython3",
   "version": "3.12.7"
  }
 },
 "nbformat": 4,
 "nbformat_minor": 5
}
